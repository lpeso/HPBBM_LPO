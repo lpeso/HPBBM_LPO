{
 "cells": [
  {
   "cell_type": "raw",
   "id": "afd689fb-fd2a-4c86-82d2-d4d7f9e8254c",
   "metadata": {},
   "source": [
    "prueba"
   ]
  },
  {
   "cell_type": "code",
   "execution_count": 1,
   "id": "bdf8cf62-c7e9-4647-9de3-e7fcd0867c65",
   "metadata": {},
   "outputs": [
    {
     "name": "stdout",
     "output_type": "stream",
     "text": [
      "Hello World\n"
     ]
    }
   ],
   "source": [
    "print(\"Hello World\")"
   ]
  },
  {
   "cell_type": "code",
   "execution_count": null,
   "id": "116b89e3-342a-4aba-97a9-bcfa02baa9f4",
   "metadata": {},
   "outputs": [],
   "source": []
  }
 ],
 "metadata": {
  "kernelspec": {
   "display_name": "Python 3 (ipykernel)",
   "language": "python",
   "name": "python3"
  },
  "language_info": {
   "codemirror_mode": {
    "name": "ipython",
    "version": 3
   },
   "file_extension": ".py",
   "mimetype": "text/x-python",
   "name": "python",
   "nbconvert_exporter": "python",
   "pygments_lexer": "ipython3",
   "version": "3.10.12"
  }
 },
 "nbformat": 4,
 "nbformat_minor": 5
}
